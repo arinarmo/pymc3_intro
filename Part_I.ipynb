{
 "cells": [
  {
   "cell_type": "markdown",
   "metadata": {},
   "source": [
    "# A “quick” introduction to PyMC3 and Bayesian models, Part I\n",
    "*In my last post  I talked about Bayesian Statistics and how they can help us quantify uncertainty in data analysis. In this post, I give a “brief”, practical introduction using a specific and hopefully relatable example drawn from real data.*\n",
    "\n",
    "*For this series of posts, I will assume a basic knowledge of probability (particularly, Bayes theorem), as well as some familiarity with python. You can read up on those subjects here and here, respectively. For a more in-depth probability course, I recommend this book.*"
   ]
  },
  {
   "cell_type": "markdown",
   "metadata": {},
   "source": [
    "## Waiting for a taxi\n",
    "We’ve all been there, maybe 15 minutes before a meeting, at 4 AM after a party, or simply when we feel too lazy to walk. And even though apps like Uber have made it relatively painless, there are still times when it is necessary or practical to just wait for a taxi. So we wait, impatiently, probably while wondering how much we will have to wait.\n",
    "\n",
    "## Modeling\n",
    "To answer this question in the frame of Bayesian statistics, we first must choose two things:\n",
    "1. A generative model for our possible observations\n",
    "2. A prior distribution for the parameters of that model\n",
    "\n",
    "As the name implies, a generative model is a probability model which is able to generate data that looks a lot like the data we might gather from the phenomenon we’re trying to model. In our case, we need a model that generates data that looks like waiting times.\n",
    "Fortunately, the exponential distribution, a very well-known continuous distribution, can be used to model waiting times for unscheduled arrivals due to the property of memorylessness, which means that, after waiting any amount of time, the distribution is the same than at the start."
   ]
  },
  {
   "cell_type": "code",
   "execution_count": 1,
   "metadata": {},
   "outputs": [
    {
     "data": {
      "text/plain": [
       "[<matplotlib.lines.Line2D at 0x7f0dfa7aee10>]"
      ]
     },
     "execution_count": 1,
     "metadata": {},
     "output_type": "execute_result"
    },
    {
     "data": {
      "image/png": "[encoded data removed]",
      "text/plain": [
       "<matplotlib.figure.Figure at 0x7f0e3b4e9e10>"
      ]
     },
     "metadata": {},
     "output_type": "display_data"
    }
   ],
   "source": [
    "# An example of the exponential distribution. Most of the density is concentrated near zero.\n",
    "\n",
    "import scipy.stats as ss\n",
    "import numpy as np\n",
    "import matplotlib.pyplot as plt\n",
    "\n",
    "np.random.seed(3141) # Just some random seed\n",
    "\n",
    "exp = ss.expon(scale=1)\n",
    "x = np.linspace(0, 5, 50)\n",
    "y = exp.pdf(x)\n",
    "\n",
    "%matplotlib inline\n",
    "plt.figure(figsize=(10, 7))\n",
    "plt.plot(x, y)"
   ]
  },
  {
   "cell_type": "markdown",
   "metadata": {},
   "source": [
    "This distribution has a single parameter λ, which indicates the expected rate at which the event occurs. We need to describe the prior information or belief about this parameter. For example, we know it’s positive (the taxi can’t arrive before we’re waiting for it!), it has no natural upper bound, and depending on what we know (or believe) about it, we can choose any number of distributions to encode such knowledge. For simplicity, I choose again the exponential, in such a way that the expected waiting time is around 5 minutes.\n",
    "\n",
    "Here’s how to do it in PyMC3. There’s also a notebook if you prefer to run the code yourself."
   ]
  },
  {
   "cell_type": "code",
   "execution_count": 2,
   "metadata": {},
   "outputs": [],
   "source": [
    "# Our generative model. rate_rate is the rate of the rate of arrival. Sorry.\n",
    "\n",
    "import pymc3 as pm\n",
    "\n",
    "with pm.Model() as model:\n",
    "    rate_rate = 5\n",
    "    rate = pm.Exponential(\"rate\", rate_rate)\n",
    "    wait_times = pm.Exponential(\"wait_times\", rate)"
   ]
  },
  {
   "cell_type": "markdown",
   "metadata": {},
   "source": [
    "With these, we’re now able to generate some data that looks like waiting times, and even answer questions about probability. However, there’s no guarantee about the accuracy of the answers. We need data for that."
   ]
  },
  {
   "cell_type": "code",
   "execution_count": 3,
   "metadata": {},
   "outputs": [
    {
     "name": "stderr",
     "output_type": "stream",
     "text": [
      "100%|██████████| 5500/5500 [00:01<00:00, 4953.15it/s]\n"
     ]
    },
    {
     "data": {
      "text/plain": [
       "(array([ 722.,  580.,  427.,  357.,  274.,  241.,  221.,  132.,  146.,\n",
       "         145.,  107.,  111.,   60.,   65.,   77.,   39.,   49.,   55.,\n",
       "          35.,   50.,   40.,   31.,   33.,   45.,   29.,   17.,   30.,\n",
       "          19.,   19.,   14.]),\n",
       " array([  0.        ,   0.83333333,   1.66666667,   2.5       ,\n",
       "          3.33333333,   4.16666667,   5.        ,   5.83333333,\n",
       "          6.66666667,   7.5       ,   8.33333333,   9.16666667,\n",
       "         10.        ,  10.83333333,  11.66666667,  12.5       ,\n",
       "         13.33333333,  14.16666667,  15.        ,  15.83333333,\n",
       "         16.66666667,  17.5       ,  18.33333333,  19.16666667,\n",
       "         20.        ,  20.83333333,  21.66666667,  22.5       ,\n",
       "         23.33333333,  24.16666667,  25.        ]),\n",
       " <a list of 30 Patch objects>)"
      ]
     },
     "execution_count": 3,
     "metadata": {},
     "output_type": "execute_result"
    },
    {
     "data": {
      "image/png": "[encoded data removed]",
      "text/plain": [
       "<matplotlib.figure.Figure at 0x7f0ded897470>"
      ]
     },
     "metadata": {},
     "output_type": "display_data"
    }
   ],
   "source": [
    "# An example histogram of the waiting times we might generate from our model. \n",
    "\n",
    "with model:\n",
    "    samples = pm.sample(draws=5000, step=pm.Metropolis(), init=None)\n",
    "plt.figure(figsize=(10, 7))\n",
    "plt.hist(samples.wait_times, range=(0, 25), bins=30)"
   ]
  },
  {
   "cell_type": "markdown",
   "metadata": {},
   "source": [
    "## Adding data\n",
    "*(The data used in this post was gathered from the NYC Taxi & Limousine Commission, and filtered to a specific month and corner, specifically, the first month of 2016, and the corner of 7th avenue and 33rd St)*\n",
    "\n",
    "Suppose that, miraculously, we have access to a month’s worth of data about taxi pickups, specifically pickups near the corner where we’re waiting. We could look at the time between consecutive pickups and call it the waiting time for the next taxi arrival."
   ]
  },
  {
   "cell_type": "code",
   "execution_count": 4,
   "metadata": {},
   "outputs": [
    {
     "data": {
      "text/plain": [
       "(array([ 1469.,  1200.,   767.,   571.,   458.,   345.,   258.,   197.,\n",
       "          183.,   153.,   145.,   104.,   111.,    64.,    75.,    73.,\n",
       "           56.,    34.,    56.,    37.,    22.,    20.,    23.,    27.,\n",
       "           23.,    25.,    18.,    16.,    12.,    15.]),\n",
       " array([  0.        ,   0.83333333,   1.66666667,   2.5       ,\n",
       "          3.33333333,   4.16666667,   5.        ,   5.83333333,\n",
       "          6.66666667,   7.5       ,   8.33333333,   9.16666667,\n",
       "         10.        ,  10.83333333,  11.66666667,  12.5       ,\n",
       "         13.33333333,  14.16666667,  15.        ,  15.83333333,\n",
       "         16.66666667,  17.5       ,  18.33333333,  19.16666667,\n",
       "         20.        ,  20.83333333,  21.66666667,  22.5       ,\n",
       "         23.33333333,  24.16666667,  25.        ]),\n",
       " <a list of 30 Patch objects>)"
      ]
     },
     "execution_count": 4,
     "metadata": {},
     "output_type": "execute_result"
    },
    {
     "data": {
      "image/png": "[encoded data removed]",
      "text/plain": [
       "<matplotlib.figure.Figure at 0x7f0dec99ec88>"
      ]
     },
     "metadata": {},
     "output_type": "display_data"
    }
   ],
   "source": [
    "# The histogram of our data. Note the shape of the distribution is similar to our generative model.\n",
    "\n",
    "import pandas as pd\n",
    "import dateutil\n",
    "\n",
    "data = pd.read_csv(\"data/jan_pickups.csv\")\n",
    "data.pickup = data.pickup.map(dateutil.parser.parse)\n",
    "wait_time = (data.pickup - data.pickup.shift(1))\n",
    "wait_mins = wait_time[1:].map(lambda t: t.total_seconds()/60)\n",
    "\n",
    "plt.figure(figsize=(10, 7))\n",
    "plt.hist(wait_mins, range=(0, 25), bins=30)"
   ]
  },
  {
   "cell_type": "markdown",
   "metadata": {},
   "source": [
    "There’s an obvious problem with using these data to model waiting times for a person: that person is not necessarily waiting as soon as the previous taxi leaves, but rather arrives at some point between two pickups. Furthermore, many empty taxis may pass through the corner without picking anyone up. We’ll see how to deal with these problems in later posts. For now though, let’s call it an approximate model and carry on.\n",
    "\n",
    "Adding the data to our model in PyMC3 is as simple as adding a parameter:"
   ]
  },
  {
   "cell_type": "code",
   "execution_count": 5,
   "metadata": {},
   "outputs": [],
   "source": [
    "# Adding data. Note the extra parameter “observed” in the wait_times definition.\n",
    "\n",
    "# We need to remove zeroes or we run into a bug!\n",
    "model_data = np.array(wait_mins[wait_mins > 0]) \n",
    "with pm.Model() as model:\n",
    "    rate_rate = 5\n",
    "    rate = pm.Exponential(\"rate\", rate_rate)\n",
    "    wait_times = pm.Exponential(\"wait_times\", rate, observed=model_data) # Right here!"
   ]
  },
  {
   "cell_type": "markdown",
   "metadata": {},
   "source": [
    "That’s it, we’re now ready to “train” our model and look at some results.\n",
    "\n",
    "## Inference and answering questions\n",
    "Thanks to the Bayes theorem and our generative model, we can now draw samples from the posterior distribution, this is also straightforward in PyMC3"
   ]
  },
  {
   "cell_type": "code",
   "execution_count": 6,
   "metadata": {},
   "outputs": [
    {
     "name": "stderr",
     "output_type": "stream",
     "text": [
      "100%|██████████| 10000/10000 [00:01<00:00, 6984.08it/s]\n"
     ]
    }
   ],
   "source": [
    "with model:\n",
    "    step = pm.Metropolis()\n",
    "    trace = pm.sample(5000, step=step, tune=5000, random_se)"
   ]
  },
  {
   "cell_type": "markdown",
   "metadata": {},
   "source": [
    "We can choose many different methods to draw from this distribution. In this case, I’m using the classic Metropolis algorithm, but PyMC3 also has other MCMC methods such as the Gibbs sampler and NUTS, as well as a great initializer in ADVI.\n",
    "\n",
    "Let’s look at our posterior distribution:"
   ]
  },
  {
   "cell_type": "code",
   "execution_count": 7,
   "metadata": {},
   "outputs": [
    {
     "data": {
      "text/plain": [
       "(array([   18.,   119.,   398.,   977.,  1428.,  1158.,   558.,   273.,\n",
       "           54.,    17.]),\n",
       " array([ 0.14683027,  0.14811339,  0.1493965 ,  0.15067961,  0.15196272,\n",
       "         0.15324584,  0.15452895,  0.15581206,  0.15709517,  0.15837829,\n",
       "         0.1596614 ]),\n",
       " <a list of 10 Patch objects>)"
      ]
     },
     "execution_count": 7,
     "metadata": {},
     "output_type": "execute_result"
    },
    {
     "data": {
      "image/png": "[encoded data removed]",
      "text/plain": [
       "<matplotlib.figure.Figure at 0x7f0df1b47e80>"
      ]
     },
     "metadata": {},
     "output_type": "display_data"
    }
   ],
   "source": [
    "# The posterior distribution for the rate parameter. It encodes the uncertainty about it after observing the data.\n",
    "\n",
    "plt.figure(figsize=(10, 7))\n",
    "plt.hist(trace.rate)"
   ]
  },
  {
   "cell_type": "markdown",
   "metadata": {},
   "source": [
    "With our posterior distribution, we can now answer questions about the rate parameter. For example, its expected value is around 0.153, which works out to about 1 taxi every 6.5 minutes, which is also the expected value of the expected waiting time. We can also look at probability intervals (there’s a 0.93 probability that the rate parameter is between 0.15 and 0.158) or at thresholds (0.99 probability that it is below 0.16).\n"
   ]
  },
  {
   "cell_type": "code",
   "execution_count": 13,
   "metadata": {},
   "outputs": [
    {
     "name": "stdout",
     "output_type": "stream",
     "text": [
      "Expected rate: 0.15289928345616693\n",
      "Probability between 0.15 and 0.158: 0.9366\n",
      "Probability below 0.159: 0.9984\n"
     ]
    }
   ],
   "source": [
    "# How to compute probabilities using the posterior samples. \n",
    "# We count the number of cases and divide by the total samples drawn.\n",
    "\n",
    "post_samples = pd.Series(trace[\"rate\"])\n",
    "\n",
    "print(\"Expected rate: {}\".format(post_samples.mean()))\n",
    "print(\"Probability between 0.15 and 0.158: {}\".format(post_samples.map(lambda x: x > 0.15 and x < 0.158).mean()))\n",
    "print(\"Probability below 0.159: {}\".format(post_samples.map(lambda x: x < 0.159).mean()))"
   ]
  },
  {
   "cell_type": "markdown",
   "metadata": {},
   "source": [
    "\n",
    "It is tempting to try and draw direct conclusions about the waiting times from this distribution, but it would be a mistake. The posterior distribution is the representation of our knowledge of the parameters of the model, not about the phenomenon we’re modeling itself. In other words, it tells us how certain we are about our model. A flat posterior means we have not been able to find one good model, but rather that there are many possible models with similar “fit”.\n",
    "\n",
    " To be able to answer questions about the phenomenon itself, we need the predictive distribution. This distribution adds the uncertainty about the parameters to the uncertainty present in the model itself, providing us with a proper way to measure the uncertainty of our predictions."
   ]
  },
  {
   "cell_type": "code",
   "execution_count": 12,
   "metadata": {},
   "outputs": [
    {
     "name": "stderr",
     "output_type": "stream",
     "text": [
      "100%|██████████| 5000/5000 [00:00<00:00, 13733.25it/s]"
     ]
    },
    {
     "name": "stdout",
     "output_type": "stream",
     "text": [
      "6.57595200519\n",
      "0.6238\n",
      "0.2134\n",
      "0.1378\n"
     ]
    },
    {
     "name": "stderr",
     "output_type": "stream",
     "text": [
      "\n"
     ]
    }
   ],
   "source": [
    "posterior_samples = pm.sample_ppc(model=model, trace=trace, random_seed=4242)[\"wait_times\"]\n",
    "\n",
    "ps = pd.Series(posterior_samples)\n",
    "print(ps.mean())\n",
    "print((ps > 10).mean())\n",
    "print((ps < 1).mean())"
   ]
  },
  {
   "cell_type": "markdown",
   "metadata": {},
   "source": [
    "We can now ask questions such as:\n",
    "* The expected waiting time: 6.57\n",
    "* The probability we wait more than 10 minutes: 0.21\n",
    "* The probability we wait less than a minute: 0.13\n",
    "\n",
    "Let’s also look at our posterior distribution. Note how it has a heavier tail than our data. This represents our uncertainty about our predictions."
   ]
  },
  {
   "cell_type": "code",
   "execution_count": 10,
   "metadata": {},
   "outputs": [
    {
     "data": {
      "text/plain": [
       "(array([ 604.,  517.,  449.,  380.,  373.,  325.,  256.,  266.,  229.,\n",
       "         206.,  179.,  140.,  124.,  118.,  115.,   97.,   63.,   74.,\n",
       "          53.,   60.,   43.,   48.,   37.,   37.,   25.,   26.,   16.,\n",
       "          21.,   22.,   16.]),\n",
       " array([  0.        ,   0.83333333,   1.66666667,   2.5       ,\n",
       "          3.33333333,   4.16666667,   5.        ,   5.83333333,\n",
       "          6.66666667,   7.5       ,   8.33333333,   9.16666667,\n",
       "         10.        ,  10.83333333,  11.66666667,  12.5       ,\n",
       "         13.33333333,  14.16666667,  15.        ,  15.83333333,\n",
       "         16.66666667,  17.5       ,  18.33333333,  19.16666667,\n",
       "         20.        ,  20.83333333,  21.66666667,  22.5       ,\n",
       "         23.33333333,  24.16666667,  25.        ]),\n",
       " <a list of 30 Patch objects>)"
      ]
     },
     "execution_count": 10,
     "metadata": {},
     "output_type": "execute_result"
    },
    {
     "data": {
      "image/png": "[encoded data removed]",
      "text/plain": [
       "<matplotlib.figure.Figure at 0x7f0dec04c4e0>"
      ]
     },
     "metadata": {},
     "output_type": "display_data"
    }
   ],
   "source": [
    "# Our posterior distribution. \n",
    "# The slightly heavier tail implies we can’t rule out the probability of observing large waiting times, \n",
    "# despite our data not showing a lot of them.\n",
    "\n",
    "plt.figure(figsize=(10, 7))\n",
    "plt.hist(posterior_samples, range=(0, 25), bins=30)"
   ]
  },
  {
   "cell_type": "markdown",
   "metadata": {},
   "source": [
    "## What’s next?\n",
    "While this model can give us a lot of information, it is not very good at making predictions. This is to be expected, because we’re not adding any feature or covariate that can help us predict our target better.\n",
    "\n",
    "In the next post, we’ll see how to add features or covariates to a model. We’ll briefly talk about functional forms and will end with a note about prior selection."
   ]
  }
 ],
 "metadata": {
  "kernelspec": {
   "display_name": "Python 3",
   "language": "python",
   "name": "python3"
  },
  "language_info": {
   "codemirror_mode": {
    "name": "ipython",
    "version": 3
   },
   "file_extension": ".py",
   "mimetype": "text/x-python",
   "name": "python",
   "nbconvert_exporter": "python",
   "pygments_lexer": "ipython3",
   "version": "3.5.2"
  }
 },
 "nbformat": 4,
 "nbformat_minor": 2
}
